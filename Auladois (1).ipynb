{
  "cells": [
    {
      "cell_type": "markdown",
      "metadata": {
        "id": "jXzilClYc15S"
      },
      "source": [
        "# Boa Noite\n",
        "Sejam bem vindos a nossa aula 1 de Python\n",
        "\n",
        "Nessa aula vamos estudar os principais comandos dessa linguagem de programação"
      ]
    },
    {
      "cell_type": "markdown",
      "metadata": {
        "id": "TkgrP83ceCBW"
      },
      "source": [
        "1) Como inserir um comentario e para que ele serve.\n",
        "\n",
        "2) Função print\n",
        "\n",
        "3) Função input \n",
        "\n",
        "4) Variável = Serve para armazenar valores.\n",
        "\n",
        "5) Tipos de variáveis\n",
        "\n",
        "  **Númericas:** Inteiras ou Flutuantes (int ou float)\n",
        "  \n",
        "  **Booleana:** Verdadeiro ou Falso (True ou False)\n",
        "  \n",
        "  **String:** ( caracteres ou letras)\n",
        "\n"
      ]
    },
    {
      "cell_type": "markdown",
      "metadata": {
        "id": "7Dkb59E4ijW2"
      },
      "source": [
        "I - Faça um código que pergunte a nota das quatro avaliações de uma disciplina e calcule a média aritimética dessas notas.\n"
      ]
    },
    {
      "cell_type": "code",
      "execution_count": null,
      "metadata": {
        "colab": {
          "base_uri": "https://localhost:8080/"
        },
        "id": "NjFU-U9YjtD8",
        "outputId": "e3cdad95-6147-4611-c83b-a7be066430d0"
      },
      "outputs": [
        {
          "name": "stdout",
          "output_type": "stream",
          "text": [
            "Qual a nota da sua primeira avaliação = 10\n",
            "Qual a nota da sua segunda avaliação = 9\n",
            "Qual a nota da sua terceira avaliação = 9\n",
            "Qual a nota da sua quarta avaliação = 8\n",
            "sua média foi 9.0\n"
          ]
        }
      ],
      "source": [
        "# Exercicio 1\n",
        "n1 = float(input(\"Qual a nota da sua primeira avaliação = \"))\n",
        "n2 = float(input(\"Qual a nota da sua segunda avaliação = \"))\n",
        "n3 = float(input(\"Qual a nota da sua terceira avaliação = \"))\n",
        "n4 = float(input(\"Qual a nota da sua quarta avaliação = \"))\n",
        "media = (n1 + n2 + n3 + n4) / 4\n",
        "print(\"sua média foi\", media)"
      ]
    },
    {
      "cell_type": "markdown",
      "metadata": {
        "id": "MyYYaJw2iqLs"
      },
      "source": [
        "II - Faça um código que pergunte seu nome, idade, profissão e esporte preferido e depois liste "
      ]
    },
    {
      "cell_type": "code",
      "execution_count": null,
      "metadata": {
        "colab": {
          "base_uri": "https://localhost:8080/"
        },
        "id": "rXhhMduKtzL6",
        "outputId": "0c21bf88-81e0-4d1a-abfe-e78a481185c4"
      },
      "outputs": [
        {
          "name": "stdout",
          "output_type": "stream",
          "text": [
            "Qual o seu nome Cassiano\n",
            "Qual a sua idade 47\n",
            "Qual a sua profissão professor\n",
            "Qual o seu esporte favorito natação\n",
            "o nome é Cassiano, a idade é 47, a profissão é professor, o esporte favorito é natação\n"
          ]
        }
      ],
      "source": [
        "# Exercicio 2\n",
        "nome = input(\"Qual o seu nome \")\n",
        "idade = int(input(\"Qual a sua idade \"))\n",
        "profissao = input(\"Qual a sua profissão \")\n",
        "esporte = input(\"Qual o seu esporte favorito \")\n",
        "print(f\"o nome é {nome}, a idade é {idade}, a profissão é {profissao}, o esporte favorito é {esporte}\")"
      ]
    },
    {
      "cell_type": "markdown",
      "metadata": {
        "id": "gHZMDJ2BiyST"
      },
      "source": [
        "III - Faça um algoritmo onde o usuário entre com a cotação do dolar do dia e converta um dado valor em real para dolar."
      ]
    },
    {
      "cell_type": "code",
      "execution_count": null,
      "metadata": {
        "colab": {
          "base_uri": "https://localhost:8080/"
        },
        "id": "iG6y9X6kixaj",
        "outputId": "3ea05977-1ca3-464a-ed0f-d644bfe1dc4c"
      },
      "outputs": [
        {
          "name": "stdout",
          "output_type": "stream",
          "text": [
            "Qual a cotação do dolat na data de hoje 4.92\n",
            "Qual o valor em reais que você vai converter 1000\n",
            "O valor de R$ 1000.0 equivale a U$ 203.25\n"
          ]
        }
      ],
      "source": [
        "# Exercicio 3\n",
        "dolar = float(input(\"Qual a cotação do dolat na data de hoje \"))\n",
        "real = float(input(\"Qual o valor em reais que você vai converter \"))\n",
        "valor_convertido = real / dolar\n",
        "print(f\"O valor de R$ {real} equivale a U$ {valor_convertido:.2f}\")\n",
        "\n"
      ]
    },
    {
      "cell_type": "markdown",
      "metadata": {
        "id": "zqxQbm3LuiV3"
      },
      "source": [
        "IV - Faça um algoritmo onde o usuário entre com o valor de uma mercadoria e a taxa de desconto, Exiba o percentual de desconto e o valor a ser pago pelo cliente."
      ]
    },
    {
      "cell_type": "code",
      "execution_count": null,
      "metadata": {
        "colab": {
          "base_uri": "https://localhost:8080/"
        },
        "id": "gy-vodYlvb8t",
        "outputId": "c135e654-8e8d-43fe-e989-ff6deda0468e"
      },
      "outputs": [
        {
          "name": "stdout",
          "output_type": "stream",
          "text": [
            "Qual o valor da mercadoria 1000\n",
            "Qual a taxa de desconto 10\n",
            "O valor do desconto é de =  100.0\n",
            "O valor da mercadoria com o desconto é de =  900.0\n"
          ]
        }
      ],
      "source": [
        "# Exercicio 4\n",
        "valor = float(input(\"Qual o valor da mercadoria \"))\n",
        "desconto = float(input(\"Qual a taxa de desconto \"))\n",
        "VCD = valor * desconto / 100 \n",
        "print(\"O valor do desconto é de = \", VCD)\n",
        "print(\"O valor da mercadoria com o desconto é de = \",valor - VCD)\n"
      ]
    },
    {
      "cell_type": "markdown",
      "metadata": {
        "id": "CLpe-AZFvhkG"
      },
      "source": [
        "# Operadores Matemáticos\n",
        "Adição = +\n",
        "\n",
        "Subtração = -\n",
        "\n",
        "Multiplicação = *\n",
        "\n",
        "Potênciação = **\n",
        "\n",
        "Raiz Quadrada = Mais para frente veremos na biblioteca Numpy a função raiz quadrada mas por enquanto podemos usar nosso conhecimento matemático para determinar a raiz quadrada usando de um número n da seguinte maneira: n**(1/2)\n",
        "\n",
        "V - Elabore um algoritmo que peça ao usuário que entre com dois números e depois imprima na tela a soma, subtração, multiplicação e raiz quadrada dos dois números, exibir a raiz quadrada com 4 casas decimais\n"
      ]
    },
    {
      "cell_type": "code",
      "execution_count": null,
      "metadata": {
        "colab": {
          "base_uri": "https://localhost:8080/"
        },
        "id": "mCAFIr8CzNFc",
        "outputId": "8564215b-6bea-456d-a62a-403870c358ac"
      },
      "outputs": [
        {
          "name": "stdout",
          "output_type": "stream",
          "text": [
            "Entre com o primeiro número 2\n",
            "Entre com o segundo número 3\n",
            "a soma dos dois números é =  5.0\n",
            "a subtração dos dois números é =  -1.0\n",
            "a multiplicação dos dois números é =  6.0\n",
            "2.0 elevado a 3.0 é =  8.0\n",
            "a raiz quadrada de 2.0 é =  1.4142\n",
            "a raiz quadrada de 3.0 é =  1.7321\n"
          ]
        }
      ],
      "source": [
        "# Exercicio 5\n",
        "x = float(input(\"Entre com o primeiro número \"))\n",
        "y = float(input(\"Entre com o segundo número \"))\n",
        "soma = x + y\n",
        "menos = x - y\n",
        "multiplicacao = x * y\n",
        "potencia = x**y\n",
        "raiz1 = x**(1/2)\n",
        "raiz2 = y**(1/2)\n",
        "print(f\"a soma dos dois números é = \",soma)\n",
        "print(f\"a subtração dos dois números é = \",menos)\n",
        "print(f\"a multiplicação dos dois números é = \",multiplicacao)\n",
        "print(f\"{x} elevado a {y} é = \",potencia)\n",
        "print(f\"a raiz quadrada de {x} é = \",round(raiz1,4))\n",
        "print(f\"a raiz quadrada de {y} é = \",round(raiz2,4))\n",
        "\n"
      ]
    },
    {
      "cell_type": "markdown",
      "metadata": {
        "id": "roEI8iDpzNYk"
      },
      "source": [
        "Agora vamos falar da divisao\n",
        "\n",
        "Existem 3 entradas para a divisao\n",
        "\n",
        "n1/n2 => O Python vai executar a divisão usual\n",
        "\n",
        "n1//n2 => O Python vai apresentar a parte inteira da divisão\n",
        "\n",
        "n1%n2 => O Python vai apresentar o resto da divisão entre os dois números\n",
        "\n",
        "VI - Dado dois números inteiros determine o valor da divisão, a parte inteira e o resto da divisão\n",
        "\n",
        "VII - Peça para o aluno digitar seu RA e depois imprima apenas os dois últimos algarismos do RA"
      ]
    },
    {
      "cell_type": "code",
      "execution_count": null,
      "metadata": {
        "colab": {
          "base_uri": "https://localhost:8080/"
        },
        "id": "eoHh31Zl1sav",
        "outputId": "2e17d5fe-d0c3-4eb8-9b36-96b0865b03de"
      },
      "outputs": [
        {
          "name": "stdout",
          "output_type": "stream",
          "text": [
            "escreva o primeiro número = 23\n",
            "escreva o segundo número = 5\n",
            "o valor da divisão é  4.6\n",
            "A parte inteira da divisão é  4\n",
            "O resto da divisão é = 3\n"
          ]
        }
      ],
      "source": [
        "# Exercício 6\n",
        "n1 = int(input(\"escreva o primeiro número = \"))\n",
        "n2 = int(input(\"escreva o segundo número = \"))\n",
        "divisao = n1 / n2\n",
        "parte_inteira = n1 // n2\n",
        "resto = n1 % n2\n",
        "print(\"o valor da divisão é \", divisao)\n",
        "print(\"A parte inteira da divisão é \",parte_inteira)\n",
        "print(\"O resto da divisão é =\", resto)\n",
        "\n",
        "\n"
      ]
    },
    {
      "cell_type": "code",
      "execution_count": null,
      "metadata": {
        "colab": {
          "base_uri": "https://localhost:8080/"
        },
        "id": "AnlA8I5Wyrd8",
        "outputId": "f305a08b-6b03-4222-9151-1f28f9098b92"
      },
      "outputs": [
        {
          "name": "stdout",
          "output_type": "stream",
          "text": [
            "Qual o número do seu RA? 220021225\n",
            "Os dois últimos números do RA são  25\n",
            "Os dois últimos números do RA são  25\n"
          ]
        }
      ],
      "source": [
        "#exercício 7\n",
        "RA = int(input(\"Qual o número do seu RA? \"))\n",
        "resto = RA % 100\n",
        "print(\"Os dois últimos números do RA são \",resto)\n",
        "RA2 = str(RA)[-2:]\n",
        "print(\"Os dois últimos números do RA são \",RA2)\n",
        "\n"
      ]
    },
    {
      "cell_type": "markdown",
      "metadata": {
        "id": "DAiiE7S314Rl"
      },
      "source": [
        "VIII - Elabore um algoritmo que peça para o aluno fornecer as 4 melhores notas das ACs, as 3 notas PAI e a nota da avaliação final e calcule sua nota final.\n",
        "\n",
        "Nota Final = 30% MAC + 30% MPAI + 40% Prova\n",
        "\n",
        "mf = média final \n",
        "\n",
        "print(\"A média final do aluno foi = {:.2f}\".format(mf))\n"
      ]
    },
    {
      "cell_type": "code",
      "execution_count": null,
      "metadata": {
        "colab": {
          "base_uri": "https://localhost:8080/"
        },
        "id": "IO0UbwXfH6Bp",
        "outputId": "578fe08f-0bd5-49b6-c46c-3084912a5e1d"
      },
      "outputs": [
        {
          "name": "stdout",
          "output_type": "stream",
          "text": [
            "digite a nota da AC1 = 5\n",
            "digite a nota da AC2 = 5\n",
            "digite a nota da AC3 = 5\n",
            "digite a nota da AC4 = 5\n",
            "digite a nota da PAI 1 = 10\n",
            "digite a nota da PAI 2 = 10\n",
            "digite a nota da PAI 3 = 10\n",
            "digite a nota da prova = 10\n",
            "A media final do aluno foi = 8.5\n"
          ]
        }
      ],
      "source": [
        "# Exercicio 8\n",
        "ac1 = float(input(\"digite a nota da AC1 = \"))\n",
        "ac2 = float(input(\"digite a nota da AC2 = \"))\n",
        "ac3 = float(input(\"digite a nota da AC3 = \"))\n",
        "ac4 = float(input(\"digite a nota da AC4 = \"))\n",
        "MAC = ((ac1 + ac2 + ac3 + ac4)/4)*0.3\n",
        "pai1 = float(input(\"digite a nota da PAI 1 = \"))\n",
        "pai2 = float(input(\"digite a nota da PAI 2 = \"))\n",
        "pai3 = float(input(\"digite a nota da PAI 3 = \"))\n",
        "MPAI = ((pai1 + pai2 + pai3)/3)*0.3\n",
        "prova = float(input(\"digite a nota da prova = \"))\n",
        "mprova = prova * 0.4\n",
        "mfinal = MAC + MPAI + mprova\n",
        "print(\"A media final do aluno foi =\", mfinal)"
      ]
    },
    {
      "cell_type": "markdown",
      "metadata": {
        "id": "txDE8Z6y21jZ"
      },
      "source": [
        "IX - Elabore um algoritmo que peça para o usuário digitar seu salário e o percentual de aumento fornecido pela empresa e depois imprima o salário com o aumento."
      ]
    },
    {
      "cell_type": "code",
      "execution_count": null,
      "metadata": {
        "colab": {
          "base_uri": "https://localhost:8080/"
        },
        "id": "7MEDoCgk5ftr",
        "outputId": "39b098be-bf8a-46ef-8975-1307dcae6b89"
      },
      "outputs": [
        {
          "name": "stdout",
          "output_type": "stream",
          "text": [
            "Digite seu salario atual 1234.54\n",
            "Digite o percentual de aumento 6.21\n",
            "O salário atual após o aumento de R$ 76.66 dera de 1311.2\n"
          ]
        }
      ],
      "source": [
        "# Exercicio 9\n",
        "s = float(input(\"Digite seu salario atual \"))\n",
        "p = float(input(\"Digite o percentual de aumento \"))\n",
        "au = s * p / 100\n",
        "sa = s + au\n",
        "print(f\"O salário atual após o aumento de R$ {round(au,2)} dera de {round(sa,2)}\")"
      ]
    },
    {
      "cell_type": "markdown",
      "metadata": {
        "id": "E1XqMTUI5gDp"
      },
      "source": [
        "X - Escreva um programa que exiba o resultado das 4 operações abaixo apos o usuário fornecer a entrada de 3 números\n",
        "\n",
        "a) $2.a + 3.b$\n",
        "\n",
        "b) $a^2+b^2$\n",
        "\n",
        "c) $a-\\frac{2.b}{3}$\n",
        "\n",
        "d) $\\sqrt{b^2 + c^2 + 2.a^2}$"
      ]
    },
    {
      "cell_type": "code",
      "execution_count": null,
      "metadata": {
        "colab": {
          "base_uri": "https://localhost:8080/"
        },
        "id": "v4T5lH98-OUF",
        "outputId": "7758c063-aac3-4be1-980a-56e4e200cb0b"
      },
      "outputs": [
        {
          "name": "stdout",
          "output_type": "stream",
          "text": [
            "Digite o valor do numero a = 2\n",
            "Digite o valor do numero b = 3\n",
            "Digite o valor do numero c = 4\n",
            "O valor da exressao numerica a =  13.0\n",
            "O valor da exressao numerica b =  13.0\n",
            "O valor da exressao numerica c =  0.0\n",
            "O valor da exressao numerica d =  5.744562646538029\n"
          ]
        }
      ],
      "source": [
        "# Exercicio 10\n",
        "a = float(input(\"Digite o valor do numero a = \"))\n",
        "b = float(input(\"Digite o valor do numero b = \"))\n",
        "c = float(input(\"Digite o valor do numero c = \"))\n",
        "ra = 2 * a + 3 * b\n",
        "rb = a**2 + b**2\n",
        "rc = a - 2 * b / 3\n",
        "rd = (b**2 + c**2 + 2*a**2)**(1/2)\n",
        "print(\"O valor da exressao numerica a = \",ra)\n",
        "print(\"O valor da exressao numerica b = \",rb)\n",
        "print(\"O valor da exressao numerica c = \",rc)\n",
        "print(\"O valor da exressao numerica d = \",rd)"
      ]
    },
    {
      "cell_type": "markdown",
      "metadata": {
        "id": "Cfjd5wfuHQv9"
      },
      "source": [
        "# Condicional\n",
        "Quando há uma escolha a ser feita\n",
        "\n",
        "**Em Python usaremos o comando if e else**\n",
        "\n",
        "Utilizamos o comando if para verificar uma expressão e executar um bloco de código caso a condição definida seja verdadeira. É importante dizer que a instrução if pode ser utilizada sozinha, ou seja, apenas para executar algo se a condição for verdadeira.\n",
        "\n",
        "A estrutura else por sua vez, é uma instrução complementar da estrutura if. A palavra else do Inglês, significa SENÃO e com esta, definiremos o bloco de instrução a ser executado todas as vezes que a expressão definida for igual a falso.\n",
        "\n",
        "![image.png](data:image/png;base64,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)\n",
        "\n",
        "SE( verdadeiro )\n",
        "   \n",
        "    faça_isso()\n",
        "\n",
        "SENÃO\n",
        "    \n",
        "    faça_aquilo()\n",
        "\n"
      ]
    },
    {
      "cell_type": "markdown",
      "metadata": {
        "id": "ciMHJ63uMw5Y"
      },
      "source": [
        "XI - Faça um algoritimo que verifique entre dois números quem é o maior."
      ]
    },
    {
      "cell_type": "code",
      "execution_count": null,
      "metadata": {
        "id": "yb1-GeWtMSj8"
      },
      "outputs": [],
      "source": []
    },
    {
      "cell_type": "markdown",
      "metadata": {
        "id": "F1Nwi24vP8rv"
      },
      "source": [
        "XII - Faça um algoritimo que verifique se um número é par ou impar."
      ]
    },
    {
      "cell_type": "code",
      "execution_count": null,
      "metadata": {
        "id": "oNde-qpTQJ-G"
      },
      "outputs": [],
      "source": []
    },
    {
      "cell_type": "markdown",
      "metadata": {
        "id": "JJkiFfBPS9j6"
      },
      "source": [
        "XIII - Escreva um código que pergunte o salário de um funcionário e depois aplique um aumento salárial.\n",
        "Para valores menores ou iguais a 2600 reais aplicar um aumento de 7,2% mais um fixo de 200 reais e para um salário maior que 2600 reais aplicar um aumento de 5,9% mais um fixo de 300 reais."
      ]
    },
    {
      "cell_type": "code",
      "execution_count": null,
      "metadata": {
        "id": "LkzSopbeS8ge"
      },
      "outputs": [],
      "source": []
    },
    {
      "cell_type": "markdown",
      "metadata": {
        "id": "lAKY006UT4ju"
      },
      "source": [
        "    XIV - Elabore um programa que calcule o valor do desconto que o funcionário assalariado terá em seu salário seguindo a tabela abaixo \n",
        "\n",
        "    até  1.903,98 => Isento.\n",
        "\n",
        "    de  1.903,99 a  2.826,65 => 7,5% -  142,80.\n",
        "\n",
        "    de  2.826,66 a  3.751,05 => 15% -  354,80.\n",
        "\n",
        "    de  3.751,06 a  4.664,68 => 22,5% -  636,13.\n",
        "\n",
        "    acima de  4.664,68 - 27,5% =>  869,36."
      ]
    },
    {
      "cell_type": "code",
      "execution_count": null,
      "metadata": {
        "id": "wBz4WhlpXIaa"
      },
      "outputs": [],
      "source": []
    },
    {
      "cell_type": "markdown",
      "metadata": {
        "id": "7dP0xILSc1Ur"
      },
      "source": [
        "Biblioteca math\n",
        "\n",
        "Essa biblioteca é necessária quando precisarmos fazer cálculos com funções \n",
        "trigonométricas, logarítmicas, exponenciais, raízes.\n",
        "\n",
        "syntax\n",
        "\n",
        "import math as ma\n",
        "\n",
        "x = ma.pi\n",
        "\n",
        "Elabore um algoritmo que calcule a aréa de uma circunferência dado o raio\n",
        "\n",
        "Área da circunferência = $\\pi.r^2$\n",
        "\n",
        "De sua resposta com 4 casas decimais de precisão\n",
        "\n"
      ]
    },
    {
      "cell_type": "code",
      "execution_count": null,
      "metadata": {},
      "outputs": [],
      "source": []
    },
    {
      "cell_type": "code",
      "execution_count": null,
      "metadata": {
        "id": "HMH9CGX5ffbp"
      },
      "outputs": [],
      "source": []
    },
    {
      "cell_type": "markdown",
      "metadata": {
        "id": "JzlC_gu8ffzO"
      },
      "source": [
        "Biblioteca Numpy\n",
        "\n",
        "NumPy, que significa Numerical Python, é uma poderosa biblioteca da linguagem de programação Python, que consiste em objetos chamados de arrays (matrizes), que são multidimensionais. Além disso, essa biblioteca vem com uma coleção de rotinas para processar esses arrays.\n",
        "\n",
        "import numpy as np\n",
        "\n",
        "XV - Elabore um programa que resolva a equação do 2° grau através da formula de Bhaskara\n",
        "\n",
        "$x=\\frac{-b\\ \\pm \\sqrt{\\Delta}}{2.a}$\n",
        "\n",
        "$\\Delta = b^2-4.a.c$\n",
        "\n",
        "Se $\\Delta < 0$  informar ao usuário que a equação não tem raiz pois não existe raiz de número negativo.\n",
        "\n",
        "\n"
      ]
    },
    {
      "cell_type": "code",
      "execution_count": null,
      "metadata": {
        "id": "1utpmj5fkOCe"
      },
      "outputs": [],
      "source": []
    },
    {
      "cell_type": "markdown",
      "metadata": {
        "id": "r8C0JJqtZFjb"
      },
      "source": [
        "Vamos agora estudar as estruturas de repetição\n",
        "    \n",
        "While\n",
        "    \n",
        "for\n",
        "\n",
        "Imprimir os 5 primeiros números positivos\n",
        " "
      ]
    },
    {
      "cell_type": "code",
      "execution_count": null,
      "metadata": {
        "id": "wEEYnmJUakfb"
      },
      "outputs": [],
      "source": []
    },
    {
      "cell_type": "markdown",
      "metadata": {
        "id": "g_Q_UHojbu8h"
      },
      "source": [
        "Imprimir o quadrado dos 10 primeiros números inteiros\n"
      ]
    },
    {
      "cell_type": "code",
      "execution_count": null,
      "metadata": {
        "id": "Ax17VVKNb1MQ"
      },
      "outputs": [],
      "source": []
    },
    {
      "cell_type": "markdown",
      "metadata": {
        "id": "hIXD0asgb1kp"
      },
      "source": [
        "calcule a média de n números inteiros"
      ]
    },
    {
      "cell_type": "code",
      "execution_count": null,
      "metadata": {
        "id": "wS-ogOIzc9Jx"
      },
      "outputs": [],
      "source": []
    },
    {
      "cell_type": "markdown",
      "metadata": {
        "id": "r6Ji-xYHhkdw"
      },
      "source": [
        "for i in range(arg1,arg2,arg3):\n",
        "\n",
        "Função range ()\n",
        "\n",
        "range (n): gera números inteiros de 0 até $n-1$\n",
        "\n",
        "range (a,n): gera números inteiros iniciando em a até $n-1$\n",
        "\n",
        "range (a,n,b): gera números inteiros iniciando em a até $n - 1$ com passo $b$"
      ]
    },
    {
      "cell_type": "code",
      "execution_count": null,
      "metadata": {
        "id": "643FqHt_ibfI"
      },
      "outputs": [],
      "source": [
        "# range (n)\n",
        "for p in range (10):\n",
        "  print(p, end=\" \")"
      ]
    },
    {
      "cell_type": "code",
      "execution_count": null,
      "metadata": {
        "id": "3pZupGeajU2C"
      },
      "outputs": [],
      "source": [
        "# range (a,n)\n",
        "for i in range(2,10):\n",
        "  print(i, end=\" \")"
      ]
    },
    {
      "cell_type": "code",
      "execution_count": null,
      "metadata": {
        "id": "p4lh3txcj1-d"
      },
      "outputs": [],
      "source": [
        "# range (a,n,b)\n",
        "for i in range(2,20,2):\n",
        "  print(i, end=\" \")"
      ]
    },
    {
      "cell_type": "markdown",
      "metadata": {
        "id": "YGK4yOgTkZzW"
      },
      "source": [
        "Calcule a média de n alunos baseado em 2 provas e dizer se cada um deles está aprovado ou reprovado."
      ]
    },
    {
      "cell_type": "code",
      "execution_count": null,
      "metadata": {
        "id": "_h3PR8ldku_d"
      },
      "outputs": [],
      "source": []
    }
  ],
  "metadata": {
    "colab": {
      "provenance": []
    },
    "kernelspec": {
      "display_name": "Python 3",
      "name": "python3"
    },
    "language_info": {
      "name": "python"
    }
  },
  "nbformat": 4,
  "nbformat_minor": 0
}
